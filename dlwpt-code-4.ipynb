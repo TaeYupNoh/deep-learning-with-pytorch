{
 "cells": [
  {
   "cell_type": "markdown",
   "id": "87fd0b59",
   "metadata": {},
   "source": [
    "# 4 실제 데이터를 텐서로 표현해보기\n",
    "- 텐서로 실제 데이터 표현하기"
   ]
  },
  {
   "cell_type": "markdown",
   "id": "76cbe313",
   "metadata": {},
   "source": [
    "## 4.1 이미지 다루기\n",
    "- 픽셀의 스칼라 값은 8비트 정수 인코딩 사용"
   ]
  },
  {
   "cell_type": "markdown",
   "id": "c0586428",
   "metadata": {},
   "source": [
    "### 4.1.2 이미지 파일 로딩"
   ]
  },
  {
   "cell_type": "code",
   "execution_count": 1,
   "id": "c2a4fc29",
   "metadata": {},
   "outputs": [],
   "source": [
    "import numpy as np\n",
    "import torch\n",
    "torch.set_printoptions(edgeitems=2, threshold=50)\n",
    "# edgeitems – Number of array items in summary at beginning and end of each dimension (default = 3)\n",
    "# threshold – Total number of array elements which trigger summarization rather than full repr (default = 1000)\n",
    "# https://pytorch.org/docs/stable/generated/torch.set_printoptions.html"
   ]
  },
  {
   "cell_type": "code",
   "execution_count": 2,
   "id": "eb8a3587",
   "metadata": {},
   "outputs": [
    {
     "name": "stderr",
     "output_type": "stream",
     "text": [
      "C:\\Users\\shxod\\AppData\\Local\\Temp\\ipykernel_15372\\1529188539.py:3: DeprecationWarning: Starting with ImageIO v3 the behavior of this function will switch to that of iio.v3.imread. To keep the current behavior (and make this warning dissapear) use `import imageio.v2 as imageio` or call `imageio.v2.imread` directly.\n",
      "  img_arr = imageio.imread('../data/p1ch4/image-dog/bobby.jpg')\n"
     ]
    },
    {
     "data": {
      "text/plain": [
       "(720, 1280, 3)"
      ]
     },
     "execution_count": 2,
     "metadata": {},
     "output_type": "execute_result"
    }
   ],
   "source": [
    "import imageio\n",
    "\n",
    "img_arr = imageio.imread('../data/p1ch4/image-dog/bobby.jpg')\n",
    "img_arr.shape\n",
    "# 버전이 낮아서 요류메세지 뜨는 것 같음"
   ]
  },
  {
   "cell_type": "code",
   "execution_count": 3,
   "id": "7b432e20",
   "metadata": {},
   "outputs": [
    {
     "data": {
      "text/plain": [
       "(720, 1280, 3)"
      ]
     },
     "execution_count": 3,
     "metadata": {},
     "output_type": "execute_result"
    }
   ],
   "source": [
    "import imageio.v2 as imageio\n",
    "\n",
    "img_arr = imageio.imread('../data/p1ch4/image-dog/bobby.jpg')\n",
    "img_arr.shape\n",
    "# 3차원 넘파이 객체 (너비, 높이, RGB채널)"
   ]
  },
  {
   "cell_type": "code",
   "execution_count": 4,
   "id": "ca39b85e",
   "metadata": {},
   "outputs": [],
   "source": [
    "img = torch.from_numpy(img_arr)\n",
    "out = img.permute(2, 0, 1)\n",
    "# (RGB채널, 높이, 너비) 순으로 차원 변경\n",
    "# 텐서 복사본을 만드는게 아님, out과 img의 저장 공간 동일하며 크기와 스트라이드 정보만 변경"
   ]
  },
  {
   "cell_type": "code",
   "execution_count": 5,
   "id": "c8c5879a",
   "metadata": {},
   "outputs": [],
   "source": [
    "batch_size = 3\n",
    "batch = torch.zeros(batch_size, 3, 256, 256, dtype=torch.uint8)\n",
    "# batch는 N*C*H*W 형태의 텐서 "
   ]
  },
  {
   "cell_type": "code",
   "execution_count": 6,
   "id": "621ad4c2",
   "metadata": {},
   "outputs": [],
   "source": [
    "import os\n",
    "\n",
    "data_dir = '../data/p1ch4/image-cats/'\n",
    "filenames = [name for name in os.listdir(data_dir)\n",
    "            if os.path.splitext(name)[-1] == '.png']\n",
    "for i, filename in enumerate(filenames):\n",
    "    img_arr = imageio.imread(os.path.join(data_dir, filename))\n",
    "    img_t = torch.from_numpy(img_arr)\n",
    "    img_t = img_t.permute(2, 0, 1)\n",
    "    img_t = img_t[:3]\n",
    "    batch[i] = img_t\n",
    "    \n",
    "# batch는 N*C*H*W 형태의 텐서 "
   ]
  },
  {
   "cell_type": "markdown",
   "id": "f2222b79",
   "metadata": {},
   "source": [
    "### 4.1.4 데이터 정규화\n",
    "- 신경망은 입력값이 대략 0에서 1 사이거나 -1에서 1 사이일 때 훈련 성능이 가장 좋은 특징을 가짐"
   ]
  },
  {
   "cell_type": "code",
   "execution_count": 7,
   "id": "32d6d036",
   "metadata": {},
   "outputs": [],
   "source": [
    "batch = batch.float()\n",
    "batch /= 255.0\n",
    "# 부호 없는 8비트 정수의 최댓값인 255로 나눈 것"
   ]
  },
  {
   "cell_type": "code",
   "execution_count": 8,
   "id": "6b9e4eb6",
   "metadata": {},
   "outputs": [],
   "source": [
    "# 입력 데이터의 평균과 표준 편차를 구해 각 채널 값이 표준 편차 넘지 않게 하는 방법\n",
    "n_channels = batch.shape[1]\n",
    "# batch에서 두 번째 값이 RGB채널을 나타냄\n",
    "\n",
    "for c in range(n_channels):\n",
    "    mean = torch.mean(batch[:, c])\n",
    "    std = torch.std(batch[:, c])\n",
    "    batch[:, c] = (batch[:, c] - mean) / std"
   ]
  },
  {
   "cell_type": "markdown",
   "id": "49f896ec",
   "metadata": {},
   "source": [
    "## 4.2 3차원 이미지: 용적 데이터\n",
    "- 채널 차원 뒤에 깊이(depth)차원을 가지기 때문에 N*C*D*H*W의 5차원 텐서가 됨"
   ]
  },
  {
   "cell_type": "markdown",
   "id": "5b1c34db",
   "metadata": {},
   "source": [
    "### 4.2.1 특수 포맷 로딩\n",
    "- imageio 모듈에 있는 volread 함수 사용, 의료용 디지털 영상(DICOM) 파일을 연속된 형태로 조합해 3차원 넘파일 배열 만듦 "
   ]
  },
  {
   "cell_type": "code",
   "execution_count": 9,
   "id": "bedd638e",
   "metadata": {},
   "outputs": [
    {
     "name": "stdout",
     "output_type": "stream",
     "text": [
      "Reading DICOM (examining files): 1/99 files (1.0%15/99 files (15.2%31/99 files (31.3%42/99 files (42.4%52/99 files (52.5%68/99 files (68.7%86/99 files (86.9%99/99 files (100.0%)\n",
      "  Found 1 correct series.\n",
      "Reading DICOM (loading data): 59/99  (59.699/99  (100.0%)\n"
     ]
    },
    {
     "data": {
      "text/plain": [
       "(99, 512, 512)"
      ]
     },
     "execution_count": 9,
     "metadata": {},
     "output_type": "execute_result"
    }
   ],
   "source": [
    "import imageio\n",
    "\n",
    "dir_path = \"../data/p1ch4/volumetric-dicom/2-LUNG 3.0  B70f-04083\"\n",
    "vol_arr = imageio.volread(dir_path, 'DICOM')\n",
    "vol_arr.shape"
   ]
  },
  {
   "cell_type": "code",
   "execution_count": 10,
   "id": "eac5366e",
   "metadata": {},
   "outputs": [
    {
     "data": {
      "text/plain": [
       "torch.Size([1, 99, 512, 512])"
      ]
     },
     "execution_count": 10,
     "metadata": {},
     "output_type": "execute_result"
    }
   ],
   "source": [
    "# channel 차원을 위한 공간 만들기\n",
    "vol = torch.from_numpy(vol_arr).float()\n",
    "vol = torch.unsqueeze(vol, 0)\n",
    "\n",
    "vol.shape"
   ]
  },
  {
   "cell_type": "markdown",
   "id": "c166163d",
   "metadata": {},
   "source": [
    "## 4.3 테이블 데이터 표현하기\n",
    "### 4.3.1 실세계 데이터셋 사용하기\n",
    "- 상이한 형태의 값으로 이뤄진 실세계 데이터를 부동소수점 수로 이뤄진 텐서로 만들기"
   ]
  },
  {
   "cell_type": "markdown",
   "id": "98f04ac1",
   "metadata": {},
   "source": [
    "### 4.3.2 와인 데이터를 텐서로 읽어오기\n",
    "##### csv 파일 읽기\n",
    "- 파이썬에 내장된 csv 모듈을 사용하는 법\n",
    "- 넘파이(NumPy)\n",
    "- 판다스(Pandas)\n",
    "\n",
    "##### 판다스가 제일 빠르고 메모리도 덜 사용함\n",
    "##### 이번에는 넘파이 활용"
   ]
  },
  {
   "cell_type": "code",
   "execution_count": 11,
   "id": "8c8fa4df",
   "metadata": {},
   "outputs": [
    {
     "data": {
      "text/plain": [
       "array([[ 7.  ,  0.27,  0.36, ...,  0.45,  8.8 ,  6.  ],\n",
       "       [ 6.3 ,  0.3 ,  0.34, ...,  0.49,  9.5 ,  6.  ],\n",
       "       [ 8.1 ,  0.28,  0.4 , ...,  0.44, 10.1 ,  6.  ],\n",
       "       ...,\n",
       "       [ 6.5 ,  0.24,  0.19, ...,  0.46,  9.4 ,  6.  ],\n",
       "       [ 5.5 ,  0.29,  0.3 , ...,  0.38, 12.8 ,  7.  ],\n",
       "       [ 6.  ,  0.21,  0.38, ...,  0.32, 11.8 ,  6.  ]], dtype=float32)"
      ]
     },
     "execution_count": 11,
     "metadata": {},
     "output_type": "execute_result"
    }
   ],
   "source": [
    "import csv\n",
    "wine_path = \"../data/p1ch4/tabular-wine/winequality-white.csv\"\n",
    "wineq_numpy = np.loadtxt(wine_path, dtype=np.float32, delimiter=\";\", \n",
    "                        skiprows=1) \n",
    "wineq_numpy"
   ]
  },
  {
   "cell_type": "code",
   "execution_count": 12,
   "id": "c64de260",
   "metadata": {},
   "outputs": [
    {
     "data": {
      "text/plain": [
       "((4898, 12),\n",
       " ['fixed acidity',\n",
       "  'volatile acidity',\n",
       "  'citric acid',\n",
       "  'residual sugar',\n",
       "  'chlorides',\n",
       "  'free sulfur dioxide',\n",
       "  'total sulfur dioxide',\n",
       "  'density',\n",
       "  'pH',\n",
       "  'sulphates',\n",
       "  'alcohol',\n",
       "  'quality'])"
      ]
     },
     "execution_count": 12,
     "metadata": {},
     "output_type": "execute_result"
    }
   ],
   "source": [
    "col_list = next(csv.reader(open(wine_path), delimiter=';'))\n",
    "# next함수 : 반복가능한 객체에서 다음 요소 반환\n",
    "\n",
    "wineq_numpy.shape, col_list"
   ]
  },
  {
   "cell_type": "code",
   "execution_count": 13,
   "id": "00a8d99b",
   "metadata": {},
   "outputs": [
    {
     "data": {
      "text/plain": [
       "(torch.Size([4898, 12]), torch.float32)"
      ]
     },
     "execution_count": 13,
     "metadata": {},
     "output_type": "execute_result"
    }
   ],
   "source": [
    "wineq = torch.from_numpy(wineq_numpy)\n",
    "\n",
    "wineq.shape, wineq.dtype"
   ]
  },
  {
   "cell_type": "markdown",
   "id": "96cede58",
   "metadata": {},
   "source": [
    "#### 연속값, 순서값, 카테고리값\n",
    "\n",
    "- 연속값(continous value) : 값 사이 순서 있음, 두 값의 차이가 의미를 지님 (kg, 마일 ...)\n",
    "- 순서값(ordinal value) : 값 사이 순서 있음, 두 값의 차이가 의미 없음 (대/중/소 ...)\n",
    "- 카테고리값(categorical value) : 값 사이 순서 없음, 두 값의 차이가 의미 없음 (1.커피/2.탄산/3.우유 ...), 명목 척도(nominal scale)이라고도 함"
   ]
  },
  {
   "cell_type": "markdown",
   "id": "752ba3f0",
   "metadata": {},
   "source": [
    "### 4.3.3 점수 표현하기"
   ]
  },
  {
   "cell_type": "code",
   "execution_count": 14,
   "id": "a18d4c0d",
   "metadata": {},
   "outputs": [
    {
     "data": {
      "text/plain": [
       "(tensor([[ 7.0000,  0.2700,  ...,  0.4500,  8.8000],\n",
       "         [ 6.3000,  0.3000,  ...,  0.4900,  9.5000],\n",
       "         ...,\n",
       "         [ 5.5000,  0.2900,  ...,  0.3800, 12.8000],\n",
       "         [ 6.0000,  0.2100,  ...,  0.3200, 11.8000]]),\n",
       " torch.Size([4898, 11]))"
      ]
     },
     "execution_count": 14,
     "metadata": {},
     "output_type": "execute_result"
    }
   ],
   "source": [
    "data = wineq[:, :-1]\n",
    "data, data.shape"
   ]
  },
  {
   "cell_type": "code",
   "execution_count": 15,
   "id": "bf8b237a",
   "metadata": {},
   "outputs": [
    {
     "data": {
      "text/plain": [
       "(tensor([6., 6.,  ..., 7., 6.]), torch.Size([4898]))"
      ]
     },
     "execution_count": 15,
     "metadata": {},
     "output_type": "execute_result"
    }
   ],
   "source": [
    "target = wineq[:, -1]\n",
    "target, target.shape"
   ]
  },
  {
   "cell_type": "code",
   "execution_count": 16,
   "id": "8a7181a7",
   "metadata": {},
   "outputs": [
    {
     "data": {
      "text/plain": [
       "tensor([6, 6,  ..., 7, 6])"
      ]
     },
     "execution_count": 16,
     "metadata": {},
     "output_type": "execute_result"
    }
   ],
   "source": [
    "target = wineq[:, -1].long()\n",
    "target\n",
    "# '와인 색'처럼 값이 문자열로 이루어진 레이블이라면 각 문자열마다 대응하는 정수 할당해 처리 가능"
   ]
  },
  {
   "cell_type": "markdown",
   "id": "f07bf53c",
   "metadata": {},
   "source": [
    "### 4.3.4 원핫 인코딩\n",
    "- 1부터 10까지의 값이 벡터 안의 10개의 원소에 대응하도록 정해두고서 원소 하나만 1로 설정하고 나머지는 모두 0으로 설정\n",
    "- 포도 품종처럼 서로 간에 완전히 이산적인 경우라면 값 사이의 순서나 거리 개념이 없는 원핫 인코딩이 더 나음\n",
    "- 원핫 인코딩은 scatter_ 메소드 사용"
   ]
  },
  {
   "cell_type": "code",
   "execution_count": 17,
   "id": "fd6be57f",
   "metadata": {},
   "outputs": [
    {
     "data": {
      "text/plain": [
       "tensor([[0., 0.,  ..., 0., 0.],\n",
       "        [0., 0.,  ..., 0., 0.],\n",
       "        ...,\n",
       "        [0., 0.,  ..., 0., 0.],\n",
       "        [0., 0.,  ..., 0., 0.]])"
      ]
     },
     "execution_count": 17,
     "metadata": {},
     "output_type": "execute_result"
    }
   ],
   "source": [
    "target_onehot = torch.zeros(target.shape[0], 10)\n",
    "\n",
    "target_onehot.scatter_(1, target.unsqueeze(1), 1.0)"
   ]
  },
  {
   "cell_type": "markdown",
   "id": "a7ba780c",
   "metadata": {},
   "source": [
    "#### scatter_ 메소드의 역할\n",
    "##### 각각 인자의 역할은 다음과 같음\n",
    "- 뒤에 오는 두 개의 인자가 따라야 하는 차원 나타냄\n",
    "- 원핫으로 인코딩할 요소를 가리키는 인덱스가 들어있는 텐서\n",
    "- 원핫 인코딩할 원소가 들어있는 텐서 혹은 단일 스칼라(이 경우에는 1)"
   ]
  },
  {
   "cell_type": "code",
   "execution_count": 18,
   "id": "60ac9bf2",
   "metadata": {},
   "outputs": [
    {
     "data": {
      "text/plain": [
       "tensor([[6],\n",
       "        [6],\n",
       "        ...,\n",
       "        [7],\n",
       "        [6]])"
      ]
     },
     "execution_count": 18,
     "metadata": {},
     "output_type": "execute_result"
    }
   ],
   "source": [
    "# target_onehot이 2차원이므로 unsqueeze로 target에 추가 차원 만들어줌\n",
    "target_unsqueezed = target.unsqueeze(1)\n",
    "target_unsqueezed"
   ]
  },
  {
   "cell_type": "markdown",
   "id": "294fdfdd",
   "metadata": {},
   "source": [
    "### 4.3.5 언제 카테고리화 할 것인가\n",
    "<img src=\"https://user-images.githubusercontent.com/107118671/188830394-e65e52c8-2d0c-4c77-ab13-fe0b4c5a5ec9.png\" width=\"70%\" height=\"70%\" align=\"left\" /><br>"
   ]
  },
  {
   "cell_type": "markdown",
   "id": "1c699bc5",
   "metadata": {},
   "source": [
    "- 연속 데이터, 순서 데이터, 카테고리 데이터로 열을 다루는 방법"
   ]
  },
  {
   "cell_type": "code",
   "execution_count": 21,
   "id": "3f2ceef1",
   "metadata": {},
   "outputs": [
    {
     "data": {
      "text/plain": [
       "tensor([6.8548e+00, 2.7824e-01, 3.3419e-01, 6.3914e+00, 4.5772e-02, 3.5308e+01,\n",
       "        1.3836e+02, 9.9403e-01, 3.1883e+00, 4.8985e-01, 1.0514e+01])"
      ]
     },
     "execution_count": 21,
     "metadata": {},
     "output_type": "execute_result"
    }
   ],
   "source": [
    "# 각 열의 평균과 표준 편차 구하기\n",
    "data_mean = torch.mean(data, dim=0)\n",
    "data_mean"
   ]
  },
  {
   "cell_type": "code",
   "execution_count": 22,
   "id": "0913c253",
   "metadata": {},
   "outputs": [
    {
     "data": {
      "text/plain": [
       "tensor([7.1211e-01, 1.0160e-02, 1.4646e-02, 2.5726e+01, 4.7733e-04, 2.8924e+02,\n",
       "        1.8061e+03, 8.9455e-06, 2.2801e-02, 1.3025e-02, 1.5144e+00])"
      ]
     },
     "execution_count": 22,
     "metadata": {},
     "output_type": "execute_result"
    }
   ],
   "source": [
    "data_var = torch.var(data, dim=0)\n",
    "data_var\n",
    "\n",
    "# dim=0은 차원 0에 대해서 축소(redution)연산이 수행됨을 지정"
   ]
  },
  {
   "cell_type": "code",
   "execution_count": 23,
   "id": "036a9b6b",
   "metadata": {},
   "outputs": [
    {
     "data": {
      "text/plain": [
       "tensor([[ 1.7208e-01, -8.1761e-02,  ..., -3.4915e-01, -1.3930e+00],\n",
       "        [-6.5743e-01,  2.1587e-01,  ...,  1.3422e-03, -8.2419e-01],\n",
       "        ...,\n",
       "        [-1.6054e+00,  1.1666e-01,  ..., -9.6251e-01,  1.8574e+00],\n",
       "        [-1.0129e+00, -6.7703e-01,  ..., -1.4882e+00,  1.0448e+00]])"
      ]
     },
     "execution_count": 23,
     "metadata": {},
     "output_type": "execute_result"
    }
   ],
   "source": [
    "# 정규화\n",
    "data_normalized = (data - data_mean) / torch.sqrt(data_var)\n",
    "data_normalized"
   ]
  },
  {
   "cell_type": "markdown",
   "id": "c583f9b1",
   "metadata": {},
   "source": [
    "### 4.3.6 임계값으로 찾기"
   ]
  },
  {
   "cell_type": "code",
   "execution_count": 24,
   "id": "919b81a7",
   "metadata": {},
   "outputs": [
    {
     "data": {
      "text/plain": [
       "(torch.Size([4898]), torch.bool, tensor(20))"
      ]
     },
     "execution_count": 24,
     "metadata": {},
     "output_type": "execute_result"
    }
   ],
   "source": [
    "bad_indexes = target <= 3\n",
    "bad_indexes.shape, bad_indexes.dtype, bad_indexes.sum()"
   ]
  },
  {
   "cell_type": "markdown",
   "id": "16b4679c",
   "metadata": {},
   "source": [
    "- 고급 인덱싱(advanced indexing)이라 부르는 파이토치 기능을 통해 data 텐서를 인덱싱할 때 torch.bool 데이터 타입 사용하면 열이 True에 해당하는 행들만 접근 가능"
   ]
  },
  {
   "cell_type": "code",
   "execution_count": 25,
   "id": "543c3184",
   "metadata": {},
   "outputs": [
    {
     "data": {
      "text/plain": [
       "torch.Size([20, 11])"
      ]
     },
     "execution_count": 25,
     "metadata": {},
     "output_type": "execute_result"
    }
   ],
   "source": [
    "bad_data = data[bad_indexes]\n",
    "bad_data.shape"
   ]
  },
  {
   "cell_type": "code",
   "execution_count": 26,
   "id": "d4679da0",
   "metadata": {},
   "outputs": [
    {
     "name": "stdout",
     "output_type": "stream",
     "text": [
      " 0 fixed acidity          7.60   6.89   6.85\n",
      " 1 volatile acidity       0.33   0.28   0.28\n",
      " 2 citric acid            0.34   0.34   0.33\n",
      " 3 residual sugar         6.39   6.71   6.39\n",
      " 4 chlorides              0.05   0.05   0.05\n",
      " 5 free sulfur dioxide   53.33  35.42  35.31\n",
      " 6 total sulfur dioxide 170.60 141.83 138.36\n",
      " 7 density                0.99   0.99   0.99\n",
      " 8 pH                     3.19   3.18   3.19\n",
      " 9 sulphates              0.47   0.49   0.49\n",
      "10 alcohol               10.34  10.26  10.51\n"
     ]
    }
   ],
   "source": [
    "bad_data = data[target <= 3]\n",
    "mid_data = data[(target > 3) & (target < 7)]\n",
    "good_data = data[target >- 7]\n",
    "\n",
    "bad_mean = torch.mean(bad_data, dim=0)\n",
    "mid_mean = torch.mean(mid_data, dim=0)\n",
    "good_mean = torch.mean(good_data, dim=0)\n",
    "\n",
    "for i, args in enumerate(zip(col_list, bad_mean, mid_mean, good_mean)):\n",
    "    print('{:2} {:20} {:6.2f} {:6.2f} {:6.2f}'.format(i, *args))"
   ]
  },
  {
   "cell_type": "code",
   "execution_count": 27,
   "id": "207d4867",
   "metadata": {},
   "outputs": [
    {
     "data": {
      "text/plain": [
       "(torch.Size([4898]), torch.bool, tensor(2727))"
      ]
     },
     "execution_count": 27,
     "metadata": {},
     "output_type": "execute_result"
    }
   ],
   "source": [
    "# 이산화황 총량을 임계값으로 사용\n",
    "total_sulfur_threshold = 141.83\n",
    "total_sulfur_data = data[:, 6]\n",
    "predicted_indexes = torch.lt(total_sulfur_data, total_sulfur_threshold)\n",
    "# torch.lt 는 input < output 비교해서 맞으면 반환\n",
    "\n",
    "predicted_indexes.shape, predicted_indexes.dtype, predicted_indexes.sum()\n",
    "# 이산화황 총량으로 판별한 좋은 와인이 2727개"
   ]
  },
  {
   "cell_type": "code",
   "execution_count": 28,
   "id": "7002a9d9",
   "metadata": {},
   "outputs": [
    {
     "data": {
      "text/plain": [
       "(torch.Size([4898]), torch.bool, tensor(3258))"
      ]
     },
     "execution_count": 28,
     "metadata": {},
     "output_type": "execute_result"
    }
   ],
   "source": [
    "actual_indexes = target > 5\n",
    "\n",
    "actual_indexes.shape, actual_indexes.dtype, actual_indexes.sum()\n",
    "# 실제로 좋은 와인이 3258개"
   ]
  },
  {
   "cell_type": "code",
   "execution_count": 29,
   "id": "093d9077",
   "metadata": {},
   "outputs": [
    {
     "data": {
      "text/plain": [
       "(2018, 0.74000733406674, 0.6193984039287906)"
      ]
     },
     "execution_count": 29,
     "metadata": {},
     "output_type": "execute_result"
    }
   ],
   "source": [
    "n_matches = torch.sum(actual_indexes & predicted_indexes).item()\n",
    "n_predicted = torch.sum(predicted_indexes).item()\n",
    "n_actual = torch.sum(actual_indexes).item()\n",
    "\n",
    "n_matches, n_matches / n_predicted, n_matches / n_actual"
   ]
  },
  {
   "cell_type": "code",
   "execution_count": 30,
   "id": "0966a627",
   "metadata": {},
   "outputs": [],
   "source": [
    "# 2000여 개의 와인 맞췄음\n",
    "# 2700여개 예측했으니 74%의 확률로 고품질의 와인 걸러냄\n",
    "# 실제 좋은 와인은 3200여개고 그 중 2000여개를 찾았으니 61%만 구별해낸 것"
   ]
  },
  {
   "cell_type": "markdown",
   "id": "89975961",
   "metadata": {},
   "source": [
    "## 4.4 시계열 데이터 다루기\n",
    "### 4.4.1 시간 차원 더하기"
   ]
  },
  {
   "cell_type": "code",
   "execution_count": 31,
   "id": "1c60eb8f",
   "metadata": {},
   "outputs": [
    {
     "data": {
      "text/plain": [
       "tensor([[1.0000e+00, 1.0000e+00,  ..., 1.3000e+01, 1.6000e+01],\n",
       "        [2.0000e+00, 1.0000e+00,  ..., 3.2000e+01, 4.0000e+01],\n",
       "        ...,\n",
       "        [1.7378e+04, 3.1000e+01,  ..., 4.8000e+01, 6.1000e+01],\n",
       "        [1.7379e+04, 3.1000e+01,  ..., 3.7000e+01, 4.9000e+01]])"
      ]
     },
     "execution_count": 31,
     "metadata": {},
     "output_type": "execute_result"
    }
   ],
   "source": [
    "bikes_numpy = np.loadtxt(\"../data/p1ch4/bike-sharing-dataset/hour-fixed.csv\", \n",
    "                         dtype=np.float32, delimiter=',',skiprows=1,converters={1: lambda x: float(x[8:10])})\n",
    "# converters는 2011-01-01에서 맨 끝의 01만 반환하도록 하는 것\n",
    "\n",
    "bikes = torch.from_numpy(bikes_numpy)\n",
    "bikes\n",
    "\n",
    "# 크기가 C인 N개의 병렬 시퀀스로 표현이 가능(C는 채널, N은 차원)\n",
    "# C는 이 데이터에서 열(columns)과 동일, N차원은 시간 축을 표현"
   ]
  },
  {
   "cell_type": "markdown",
   "id": "afd8243f",
   "metadata": {},
   "source": [
    "### 4.4.2 시간 단위로 데이터 만들기"
   ]
  },
  {
   "cell_type": "code",
   "execution_count": 32,
   "id": "00748f36",
   "metadata": {},
   "outputs": [],
   "source": [
    "# 2년치 데이터셋을 쪼개서 일 단위처럼 나누기 \n",
    "# N * C * L, 여기서 C에는 17개의 채널, 1을 한 시간으로 해서 L은 24"
   ]
  },
  {
   "cell_type": "code",
   "execution_count": 33,
   "id": "9b1576d0",
   "metadata": {},
   "outputs": [
    {
     "data": {
      "text/plain": [
       "(torch.Size([17520, 17]), (17, 1))"
      ]
     },
     "execution_count": 33,
     "metadata": {},
     "output_type": "execute_result"
    }
   ],
   "source": [
    "# 일별로 매 시간의 데이터셋을 구하기 위해 동일 텐서를 24시간 배치로 바라보는 뷰 필요\n",
    "bikes.shape, bikes.stride()"
   ]
  },
  {
   "cell_type": "code",
   "execution_count": 34,
   "id": "b6b34994",
   "metadata": {},
   "outputs": [
    {
     "data": {
      "text/plain": [
       "(torch.Size([730, 24, 17]), (408, 17, 1))"
      ]
     },
     "execution_count": 34,
     "metadata": {},
     "output_type": "execute_result"
    }
   ],
   "source": [
    "# 데이터를 일자, 시간, 17개의 열 세 개 축으로 만들기\n",
    "daily_bikes = bikes.view(-1, 24, bikes.shape[1])\n",
    "daily_bikes.shape, daily_bikes.stride()"
   ]
  },
  {
   "cell_type": "code",
   "execution_count": 35,
   "id": "5bd769ad",
   "metadata": {},
   "outputs": [
    {
     "data": {
      "text/plain": [
       "(torch.Size([730, 17, 24]), (408, 1, 17))"
      ]
     },
     "execution_count": 35,
     "metadata": {},
     "output_type": "execute_result"
    }
   ],
   "source": [
    "# N * C * L 순서로 텐서 전치\n",
    "daily_bikes = daily_bikes.transpose(1,2)\n",
    "daily_bikes.shape, daily_bikes.stride()"
   ]
  },
  {
   "cell_type": "markdown",
   "id": "4416be5e",
   "metadata": {},
   "source": [
    "### 4.4.3 훈련 준비\n",
    "- '날짜 상태'를 통해 연습"
   ]
  },
  {
   "cell_type": "code",
   "execution_count": 36,
   "id": "1a5ebe62",
   "metadata": {},
   "outputs": [
    {
     "data": {
      "text/plain": [
       "tensor([1, 1, 1, 1, 1, 2, 1, 1, 1, 1, 1, 1, 1, 2, 2, 2, 2, 2, 3, 3, 2, 2, 2, 2])"
      ]
     },
     "execution_count": 36,
     "metadata": {},
     "output_type": "execute_result"
    }
   ],
   "source": [
    "first_day = bikes[:24].long()\n",
    "weather_onehot = torch.zeros(first_day.shape[0], 4)\n",
    "first_day[:,9]\n",
    "# 하루 동안의 날씨 상태"
   ]
  },
  {
   "cell_type": "code",
   "execution_count": 37,
   "id": "d95989ae",
   "metadata": {},
   "outputs": [
    {
     "data": {
      "text/plain": [
       "tensor([[1., 0., 0., 0.],\n",
       "        [1., 0., 0., 0.],\n",
       "        ...,\n",
       "        [0., 1., 0., 0.],\n",
       "        [0., 1., 0., 0.]])"
      ]
     },
     "execution_count": 37,
     "metadata": {},
     "output_type": "execute_result"
    }
   ],
   "source": [
    "weather_onehot.scatter_(dim=1, index=first_day[:,9].unsqueeze(1).long() -1, value=1.0) \n",
    "# 날씨값은 1부터 4까지지만, 색인은 0에서 시작하므로 1을 빼줌"
   ]
  },
  {
   "cell_type": "code",
   "execution_count": 38,
   "id": "1c5d94fd",
   "metadata": {},
   "outputs": [
    {
     "data": {
      "text/plain": [
       "tensor([[ 1.0000,  1.0000,  1.0000,  0.0000,  1.0000,  0.0000,  0.0000,  6.0000,\n",
       "          0.0000,  1.0000,  0.2400,  0.2879,  0.8100,  0.0000,  3.0000, 13.0000,\n",
       "         16.0000,  1.0000,  0.0000,  0.0000,  0.0000]])"
      ]
     },
     "execution_count": 38,
     "metadata": {},
     "output_type": "execute_result"
    }
   ],
   "source": [
    "# cat함수 사용해 원래 데이터셋에 병합\n",
    "torch.cat((bikes[:24], weather_onehot), 1)[:1]\n",
    "\n",
    "#'날씨 상태'를 원핫 인코딩하여 데이터 열이 있는 차원(1번 차원)을 따라 병합함\n",
    "# 17개 채널에다가 날씨 4개 넣었으므로 길이 21이어야 하는데 맞음"
   ]
  },
  {
   "cell_type": "code",
   "execution_count": 39,
   "id": "2bffe397",
   "metadata": {},
   "outputs": [
    {
     "data": {
      "text/plain": [
       "torch.Size([730, 4, 24])"
      ]
     },
     "execution_count": 39,
     "metadata": {},
     "output_type": "execute_result"
    }
   ],
   "source": [
    "# daily_bikes 텐서에 대해서도 동일한 작업 할 수 있음\n",
    "daily_weather_onehot = torch.zeros(daily_bikes.shape[0], 4, daily_bikes.shape[2])\n",
    "\n",
    "daily_weather_onehot.shape"
   ]
  },
  {
   "cell_type": "code",
   "execution_count": 40,
   "id": "3f2ffd8a",
   "metadata": {},
   "outputs": [
    {
     "data": {
      "text/plain": [
       "torch.Size([730, 4, 24])"
      ]
     },
     "execution_count": 40,
     "metadata": {},
     "output_type": "execute_result"
    }
   ],
   "source": [
    "# scatter_ 해줌(텐서의 내용이 바뀜)\n",
    "daily_weather_onehot.scatter(1, daily_bikes[:,9,:].long().unsqueeze(1) -1, 1.0)\n",
    "daily_weather_onehot.shape"
   ]
  },
  {
   "cell_type": "code",
   "execution_count": 41,
   "id": "44bd9ca1",
   "metadata": {},
   "outputs": [],
   "source": [
    "daily_bikes = torch.cat((daily_bikes, daily_weather_onehot), dim=1)"
   ]
  },
  {
   "cell_type": "code",
   "execution_count": 42,
   "id": "61fc29f9",
   "metadata": {},
   "outputs": [],
   "source": [
    "daily_bikes[:, 9, :] = (daily_bikes[:, 9, :] - 1.0) / 3.0\n",
    "# 변수를 [0.0, 1.0] 사잇값으로 범위 변경"
   ]
  },
  {
   "cell_type": "code",
   "execution_count": 43,
   "id": "cdd424b1",
   "metadata": {},
   "outputs": [],
   "source": [
    "temp = daily_bikes[:, 10, :]\n",
    "temp_min = torch.min(temp)\n",
    "temp_max = torch.max(temp)\n",
    "daily_bikes[:, 10, :] = ((daily_bikes[:, 10, :] - temp_min) / (temp_max - temp_min))\n",
    "# 범위를 [0.0, 1.0]으로 매핑"
   ]
  },
  {
   "cell_type": "code",
   "execution_count": 44,
   "id": "753f5e09",
   "metadata": {},
   "outputs": [],
   "source": [
    "temp = daily_bikes[:, 10, :]\n",
    "daily_bikes[:, 10, :] = ((daily_bikes[:, 10, :] - torch.mean(temp)) / torch.std(temp))\n",
    "# 모든 값에서 평균을 빼고 표준편차로 나누는 방법\n",
    "# 가우시안 분포로 그리면, 샘플의 68%는 [-1.0, 1.0]에 분포하게 됨"
   ]
  },
  {
   "cell_type": "markdown",
   "id": "5185aa93",
   "metadata": {},
   "source": [
    "## 4.5 텍스트 표현하기\n",
    "- 자연어 처리(natural language processing, NLP)\n",
    "- 순환 신경망(recurrent neural network, RNN)\n",
    "- 최근엔 트랜스포머(transformer)\n",
    "### 4.5.1 텍스트를 숫자로 변환하기"
   ]
  },
  {
   "cell_type": "code",
   "execution_count": 45,
   "id": "cf151d62",
   "metadata": {},
   "outputs": [],
   "source": [
    "with open('../data/p1ch4/jane-austen/1342-0.txt', encoding='utf8') as f:\n",
    "    text = f.read()"
   ]
  },
  {
   "cell_type": "markdown",
   "id": "3a85f195",
   "metadata": {},
   "source": [
    "### 4.5.2 문자 원핫 인코딩\n",
    "- 가장 단순한 형태의 인코딩은 1960년대에 나온 ASCII (128개의 문자를 128개의 정수로 인코딩)\n",
    "- 넓은 범위의 문자 인코딩 기법은 유니코드(Unicode), 이 숫자를 비트로 표현하는 방식은 특정 인코딩 형식으로 제공됨\n",
    "- 그 중 하나인 UTF-8은 숫자를 8비트 정수로 표현"
   ]
  },
  {
   "cell_type": "code",
   "execution_count": 46,
   "id": "57b58a41",
   "metadata": {},
   "outputs": [
    {
     "data": {
      "text/plain": [
       "'“Impossible, Mr. Bennet, impossible, when I am not acquainted with him'"
      ]
     },
     "execution_count": 46,
     "metadata": {},
     "output_type": "execute_result"
    }
   ],
   "source": [
    "lines = text.split('\\n')\n",
    "line = lines[200]\n",
    "line"
   ]
  },
  {
   "cell_type": "code",
   "execution_count": 47,
   "id": "87af7191",
   "metadata": {},
   "outputs": [
    {
     "data": {
      "text/plain": [
       "torch.Size([70, 128])"
      ]
     },
     "execution_count": 47,
     "metadata": {},
     "output_type": "execute_result"
    }
   ],
   "source": [
    "letter_t = torch.zeros(len(line), 128) # ASCII 제한인 128로 하드코딩\n",
    "letter_t.shape"
   ]
  },
  {
   "cell_type": "code",
   "execution_count": 48,
   "id": "595b2974",
   "metadata": {},
   "outputs": [
    {
     "data": {
      "text/plain": [
       "tensor([[1., 0.,  ..., 0., 0.],\n",
       "        [0., 0.,  ..., 0., 0.],\n",
       "        ...,\n",
       "        [0., 0.,  ..., 0., 0.],\n",
       "        [0., 0.,  ..., 0., 0.]])"
      ]
     },
     "execution_count": 48,
     "metadata": {},
     "output_type": "execute_result"
    }
   ],
   "source": [
    "for i, letter in enumerate(line.lower().strip()):\n",
    "    letter_index = ord(letter) if ord(letter) < 128 else 0 # 방향이 있는 쌍따옴표처럼 ASCII에 유효하지 않은 문자는 여기서 버림\n",
    "    letter_t[i][letter_index] = 1\n",
    "    \n",
    "letter_t"
   ]
  },
  {
   "cell_type": "markdown",
   "id": "5501b3d0",
   "metadata": {},
   "source": [
    "### 4.5.3 모든 단어를 원핫 인코딩하기\n",
    "- 임베딩(embedding)을 사용하여 단어 단위로 텍스트를 표현하는 효율적인 방법은 다음 절에서 살펴봄"
   ]
  },
  {
   "cell_type": "code",
   "execution_count": 49,
   "id": "0d773adc",
   "metadata": {},
   "outputs": [
    {
     "data": {
      "text/plain": [
       "('“Impossible, Mr. Bennet, impossible, when I am not acquainted with him',\n",
       " ['impossible',\n",
       "  'mr',\n",
       "  'bennet',\n",
       "  'impossible',\n",
       "  'when',\n",
       "  'i',\n",
       "  'am',\n",
       "  'not',\n",
       "  'acquainted',\n",
       "  'with',\n",
       "  'him'])"
      ]
     },
     "execution_count": 49,
     "metadata": {},
     "output_type": "execute_result"
    }
   ],
   "source": [
    "def clean_words(input_str):\n",
    "    punctuation = '.,;:\"!?”“_-'\n",
    "    word_list = input_str.lower().replace('\\n', ' ').split()\n",
    "    word_list = [word.strip(punctuation) for word in word_list]\n",
    "    return word_list\n",
    "\n",
    "words_in_line = clean_words(line)\n",
    "line, words_in_line"
   ]
  },
  {
   "cell_type": "code",
   "execution_count": 50,
   "id": "35a65f45",
   "metadata": {},
   "outputs": [
    {
     "data": {
      "text/plain": [
       "(7261, 3394)"
      ]
     },
     "execution_count": 50,
     "metadata": {},
     "output_type": "execute_result"
    }
   ],
   "source": [
    "word_list = sorted(set(clean_words(text)))\n",
    "word2index_dict = {word: i for (i, word) in enumerate(word_list)}\n",
    "\n",
    "len(word2index_dict), word2index_dict['impossible']\n",
    "# word2index_dict는 단어를 키로, 정수를 값으로 가지는 dictionary"
   ]
  },
  {
   "cell_type": "code",
   "execution_count": 51,
   "id": "78bf9115",
   "metadata": {},
   "outputs": [
    {
     "name": "stdout",
     "output_type": "stream",
     "text": [
      " 0 3394 impossible\n",
      " 1 4305 mr\n",
      " 2  813 bennet\n",
      " 3 3394 impossible\n",
      " 4 7078 when\n",
      " 5 3315 i\n",
      " 6  415 am\n",
      " 7 4436 not\n",
      " 8  239 acquainted\n",
      " 9 7148 with\n",
      "10 3215 him\n",
      "torch.Size([11, 7261])\n"
     ]
    }
   ],
   "source": [
    "word_t = torch.zeros(len(words_in_line), len(word2index_dict))\n",
    "for i, word in enumerate(words_in_line):\n",
    "    word_index = word2index_dict[word]\n",
    "    word_t[i][word_index] = 1\n",
    "    print('{:2} {:4} {}'.format(i, word_index, word))\n",
    "    \n",
    "print(word_t.shape)"
   ]
  },
  {
   "cell_type": "markdown",
   "id": "2213ce98",
   "metadata": {},
   "source": [
    "## 4.7 연습 문제"
   ]
  },
  {
   "cell_type": "code",
   "execution_count": 52,
   "id": "f799ab40",
   "metadata": {},
   "outputs": [],
   "source": [
    "# 1\n",
    "import imageio.v2 as imageio"
   ]
  },
  {
   "cell_type": "code",
   "execution_count": 53,
   "id": "dcca8630",
   "metadata": {},
   "outputs": [
    {
     "data": {
      "text/plain": [
       "(797, 560, 3)"
      ]
     },
     "execution_count": 53,
     "metadata": {},
     "output_type": "execute_result"
    }
   ],
   "source": [
    "# 파란색\n",
    "a_arr = imageio.imread('../data/p1ch4/image-dog/passport.jpg')\n",
    "a_arr.shape"
   ]
  },
  {
   "cell_type": "code",
   "execution_count": 54,
   "id": "7b5c27c3",
   "metadata": {},
   "outputs": [
    {
     "data": {
      "text/plain": [
       "tensor([[[ 43.,  43.,  ..., 255., 251.],\n",
       "         [ 43.,  43.,  ..., 253., 255.],\n",
       "         ...,\n",
       "         [ 19.,  19.,  ..., 252., 255.],\n",
       "         [147., 147.,  ..., 250., 255.]],\n",
       "\n",
       "        [[ 53.,  53.,  ..., 255., 248.],\n",
       "         [ 53.,  53.,  ..., 251., 255.],\n",
       "         ...,\n",
       "         [ 28.,  28.,  ..., 252., 253.],\n",
       "         [154., 154.,  ..., 247., 255.]],\n",
       "\n",
       "        [[115., 115.,  ..., 239., 229.],\n",
       "         [115., 115.,  ..., 239., 241.],\n",
       "         ...,\n",
       "         [ 67.,  67.,  ..., 242., 244.],\n",
       "         [180., 180.,  ..., 240., 248.]]])"
      ]
     },
     "execution_count": 54,
     "metadata": {},
     "output_type": "execute_result"
    }
   ],
   "source": [
    "a = torch.from_numpy(a_arr)\n",
    "a_float = a.type(torch.float)\n",
    "a_out = a_float.permute(2, 0, 1)\n",
    "a_out"
   ]
  },
  {
   "cell_type": "code",
   "execution_count": 55,
   "id": "838fe8ca",
   "metadata": {},
   "outputs": [
    {
     "data": {
      "text/plain": [
       "tensor([ 47.6370,  57.7991, 116.9934])"
      ]
     },
     "execution_count": 55,
     "metadata": {},
     "output_type": "execute_result"
    }
   ],
   "source": [
    "a_mean_1 = torch.mean(a_out, dim=1)\n",
    "a_mean_2 = torch.mean(a_mean_1, dim=1)\n",
    "a_mean_2"
   ]
  },
  {
   "cell_type": "code",
   "execution_count": 56,
   "id": "9edab821",
   "metadata": {},
   "outputs": [
    {
     "data": {
      "text/plain": [
       "(400, 600, 3)"
      ]
     },
     "execution_count": 56,
     "metadata": {},
     "output_type": "execute_result"
    }
   ],
   "source": [
    "# 빨강색\n",
    "b_arr = imageio.imread('../data/p1ch4/image-dog/strawberry.jpg')\n",
    "b_arr.shape"
   ]
  },
  {
   "cell_type": "code",
   "execution_count": 57,
   "id": "e6c57949",
   "metadata": {},
   "outputs": [
    {
     "data": {
      "text/plain": [
       "tensor([[[225., 229.,  ..., 238., 229.],\n",
       "         [227., 225.,  ..., 230., 233.],\n",
       "         ...,\n",
       "         [229., 220.,  ..., 101., 109.],\n",
       "         [221., 213.,  ..., 102., 108.]],\n",
       "\n",
       "        [[ 39.,  13.,  ..., 173., 147.],\n",
       "         [ 29.,  14.,  ..., 158., 173.],\n",
       "         ...,\n",
       "         [113.,  53.,  ...,   8.,  23.],\n",
       "         [ 73.,  17.,  ...,   9.,  23.]],\n",
       "\n",
       "        [[ 60.,  37.,  ...,  69.,  48.],\n",
       "         [ 46.,  33.,  ...,  60.,  59.],\n",
       "         ...,\n",
       "         [  4.,   1.,  ...,  18.,  26.],\n",
       "         [  0.,   1.,  ...,  19.,  26.]]])"
      ]
     },
     "execution_count": 57,
     "metadata": {},
     "output_type": "execute_result"
    }
   ],
   "source": [
    "b = torch.from_numpy(b_arr)\n",
    "b_float = b.type(torch.float)\n",
    "b_out = b_float.permute(2, 0, 1)\n",
    "b_out"
   ]
  },
  {
   "cell_type": "code",
   "execution_count": 58,
   "id": "7274abd9",
   "metadata": {},
   "outputs": [
    {
     "data": {
      "text/plain": [
       "tensor([184.8967,  51.1075,  29.2876])"
      ]
     },
     "execution_count": 58,
     "metadata": {},
     "output_type": "execute_result"
    }
   ],
   "source": [
    "b_mean_1 = torch.mean(b_out, dim=1)\n",
    "b_mean_2 = torch.mean(b_mean_1, dim=1)\n",
    "b_mean_2"
   ]
  },
  {
   "cell_type": "code",
   "execution_count": 59,
   "id": "19c94462",
   "metadata": {},
   "outputs": [
    {
     "data": {
      "text/plain": [
       "(720, 960, 3)"
      ]
     },
     "execution_count": 59,
     "metadata": {},
     "output_type": "execute_result"
    }
   ],
   "source": [
    "# 초록색\n",
    "c_arr = imageio.imread('../data/p1ch4/image-dog/grass.jpg')\n",
    "c_arr = c_arr[:,:,:-1] # 투명도 알파 채널까지 있어서 첫 세개 채널만 유지\n",
    "\n",
    "c_arr.shape"
   ]
  },
  {
   "cell_type": "code",
   "execution_count": 60,
   "id": "c1ec1093",
   "metadata": {},
   "outputs": [
    {
     "data": {
      "text/plain": [
       "tensor([[[ 61.,  60.,  ...,  16.,  14.],\n",
       "         [ 59.,  60.,  ...,  17.,  25.],\n",
       "         ...,\n",
       "         [ 86.,  80.,  ...,  83.,  78.],\n",
       "         [ 91., 104.,  ...,  78.,  77.]],\n",
       "\n",
       "        [[112., 111.,  ...,  18.,  16.],\n",
       "         [110., 111.,  ...,  19.,  27.],\n",
       "         ...,\n",
       "         [160., 154.,  ..., 140., 135.],\n",
       "         [161., 174.,  ..., 135., 134.]],\n",
       "\n",
       "        [[ 19.,  18.,  ...,   0.,   0.],\n",
       "         [ 17.,  18.,  ...,   0.,   5.],\n",
       "         ...,\n",
       "         [ 15.,   7.,  ...,  46.,  41.],\n",
       "         [ 11.,  23.,  ...,  41.,  40.]]])"
      ]
     },
     "execution_count": 60,
     "metadata": {},
     "output_type": "execute_result"
    }
   ],
   "source": [
    "c = torch.from_numpy(c_arr)\n",
    "c_float = c.type(torch.float)\n",
    "c_out = c_float.permute(2, 0, 1)\n",
    "c_out"
   ]
  },
  {
   "cell_type": "code",
   "execution_count": 61,
   "id": "22fd46d4",
   "metadata": {},
   "outputs": [
    {
     "data": {
      "text/plain": [
       "tensor([ 71.2210, 127.2252,  33.5540])"
      ]
     },
     "execution_count": 61,
     "metadata": {},
     "output_type": "execute_result"
    }
   ],
   "source": [
    "c_mean_1 = torch.mean(c_out, dim=1)\n",
    "c_mean_2 = torch.mean(c_mean_1, dim=1)\n",
    "c_mean_2"
   ]
  },
  {
   "cell_type": "code",
   "execution_count": null,
   "id": "375f109c",
   "metadata": {},
   "outputs": [],
   "source": [
    "# 2"
   ]
  }
 ],
 "metadata": {
  "kernelspec": {
   "display_name": "Python 3 (ipykernel)",
   "language": "python",
   "name": "python3"
  },
  "language_info": {
   "codemirror_mode": {
    "name": "ipython",
    "version": 3
   },
   "file_extension": ".py",
   "mimetype": "text/x-python",
   "name": "python",
   "nbconvert_exporter": "python",
   "pygments_lexer": "ipython3",
   "version": "3.9.12"
  }
 },
 "nbformat": 4,
 "nbformat_minor": 5
}
